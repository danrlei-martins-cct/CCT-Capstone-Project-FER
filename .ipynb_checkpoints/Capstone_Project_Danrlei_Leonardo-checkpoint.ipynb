{
 "cells": [
  {
   "attachments": {
    "image.png": {
     "image/png": "[encoded data removed]"
    }
   },
   "cell_type": "markdown",
   "id": "a88e60b5",
   "metadata": {},
   "source": [
    "![image.png](attachment:image.png)"
   ]
  },
  {
   "cell_type": "markdown",
   "id": "c9cd3973",
   "metadata": {},
   "source": [
    "<div style=\"text-align: center;\">\n",
    "    <h2><u>Capstone Pair Project</u></h2>\n",
    "    <h3> Problem Solving for Industry</h3>\n",
    "    <h3>Supervisor: Dr Muhammad Iqbal</h3>\n",
    "    <h3>Student Names: Danrlei Martins & Leonardo Diesel</h3>\n",
    "    <h3>Student Numbers: 2020322 & 2020302</h3>\n",
    "    <h3><a href=\"https://github.com/danrlei-martins-cct/CCT-Capstone-Project-FER\">GitHub Repository</a></h3>\n",
    "</div>"
   ]
  },
  {
   "cell_type": "markdown",
   "id": "4af27cee",
   "metadata": {},
   "source": [
    "***"
   ]
  },
  {
   "cell_type": "markdown",
   "id": "142181f0",
   "metadata": {},
   "source": [
    "### Install Libraries"
   ]
  },
  {
   "cell_type": "code",
   "execution_count": null,
   "id": "0612dbe6",
   "metadata": {},
   "outputs": [],
   "source": [
    "# pip install keras\n",
    "# pip install tensorflow\n",
    "# pip install keras-tuner --upgrade"
   ]
  },
  {
   "cell_type": "markdown",
   "id": "13b29af9",
   "metadata": {},
   "source": [
    "### Import Libraries"
   ]
  },
  {
   "cell_type": "code",
   "execution_count": 10,
   "id": "3503fc12",
   "metadata": {},
   "outputs": [],
   "source": [
    "import os\n",
    "import matplotlib.pyplot as plt\n",
    "import cv2\n",
    "import random\n",
    "import numpy as np\n",
    "import keras\n",
    "import tensorflow as tf\n",
    "import kerastuner as kt\n",
    "from tensorflow.keras.layers import Dropout\n",
    "\n",
    "from tensorflow.keras.preprocessing.image import ImageDataGenerator\n",
    "from tensorflow.keras.applications import VGG16\n",
    "from keras.layers import Flatten, Dense\n",
    "from keras.models import Model\n",
    "from keras.optimizers import Adam\n",
    "from keras.callbacks import ReduceLROnPlateau, EarlyStopping\n",
    "from kerastuner.tuners import RandomSearch"
   ]
  },
  {
   "cell_type": "markdown",
   "id": "6d3d6cc4",
   "metadata": {},
   "source": [
    "### Libraries Explanation\n"
   ]
  },
  {
   "cell_type": "markdown",
   "id": "a347830c",
   "metadata": {},
   "source": [
    "***"
   ]
  },
  {
   "cell_type": "markdown",
   "id": "c7405ca5",
   "metadata": {},
   "source": [
    "## 1. Data Understanding"
   ]
  },
  {
   "cell_type": "code",
   "execution_count": 2,
   "id": "f1f72432",
   "metadata": {},
   "outputs": [],
   "source": [
    "train_dir = \"FER2013/train/\" # path with training images\n",
    "test_dir = \"FER2013/test/\"   # path with testing images"
   ]
  },
  {
   "cell_type": "code",
   "execution_count": 3,
   "id": "d67b9cde",
   "metadata": {},
   "outputs": [
    {
     "name": "stdout",
     "output_type": "stream",
     "text": [
      "Expression Categories in Training Images: ['angry', 'disgust', 'fear', 'happy', 'neutral', 'sad', 'surprise']\n",
      "Expression Categories in Testing Images: ['angry', 'disgust', 'fear', 'happy', 'neutral', 'sad', 'surprise']\n"
     ]
    }
   ],
   "source": [
    "# Exploring the different expressions (categories) of the FER2013 dataset\n",
    "train_expressions = os.listdir(train_dir)\n",
    "test_expressions = os.listdir(test_dir)\n",
    "\n",
    "print(\"Expression Categories in Training Images:\", train_expressions)\n",
    "print(\"Expression Categories in Testing Images:\", test_expressions)"
   ]
  },
  {
   "cell_type": "code",
   "execution_count": 4,
   "id": "4e92d03e",
   "metadata": {
    "scrolled": true
   },
   "outputs": [
    {
     "name": "stdout",
     "output_type": "stream",
     "text": [
      "\n",
      "Number of Images per Category in Training Set:\n",
      "angry: 3995\n",
      "disgust: 436\n",
      "fear: 4097\n",
      "happy: 7215\n",
      "neutral: 4965\n",
      "sad: 4830\n",
      "surprise: 3171\n",
      "Total Training Images: 28709\n",
      "\n",
      "Number of Images per Category in Testing Set:\n",
      "angry: 958\n",
      "disgust: 111\n",
      "fear: 1024\n",
      "happy: 1774\n",
      "neutral: 1233\n",
      "sad: 1247\n",
      "surprise: 831\n",
      "Total Testing Images: 7178\n"
     ]
    }
   ],
   "source": [
    "# Dictionaries to store the image counts\n",
    "train_image_counts = {expr: 0 for expr in train_expressions}\n",
    "test_image_counts = {expr: 0 for expr in test_expressions}\n",
    "\n",
    "# Count the number of images for each expression category\n",
    "for expr in train_expressions:\n",
    "    train_image_counts[expr] = len(os.listdir(os.path.join(train_dir, expr)))\n",
    "\n",
    "for expr in test_expressions:\n",
    "    test_image_counts[expr] = len(os.listdir(os.path.join(test_dir, expr)))\n",
    "    \n",
    "# Calculate the total number of images in the training and testing sets\n",
    "total_train_images = sum(train_image_counts.values())\n",
    "total_test_images = sum(test_image_counts.values())\n",
    "\n",
    "# Print the results\n",
    "print(\"\\nNumber of Images per Category in Training Set:\")\n",
    "for expr, count in train_image_counts.items():\n",
    "    print(f\"{expr}: {count}\")\n",
    "print(f\"Total Training Images: {total_train_images}\")\n",
    "\n",
    "print(\"\\nNumber of Images per Category in Testing Set:\")\n",
    "for expr, count in test_image_counts.items():\n",
    "    print(f\"{expr}: {count}\")\n",
    "print(f\"Total Testing Images: {total_test_images}\")"
   ]
  },
  {
   "cell_type": "markdown",
   "id": "57eec317",
   "metadata": {},
   "source": [
    "### 1.1 Exploratory Data Analysis (EDA)"
   ]
  },
  {
   "cell_type": "code",
   "execution_count": null,
   "id": "40f49bbc",
   "metadata": {},
   "outputs": [],
   "source": [
    "# Plot the distribution of expression categories in the sets\n",
    "plt.figure(figsize=(8, 6))\n",
    "plt.bar(train_image_counts.keys(), train_image_counts.values(), color='red')\n",
    "plt.title(\"Distribution of Expression Categories in Training Set\")\n",
    "plt.xlabel(\"Expression Category\")\n",
    "plt.ylabel(\"Number of Images\")\n",
    "plt.xticks(rotation=90);"
   ]
  },
  {
   "cell_type": "code",
   "execution_count": null,
   "id": "6ee21975",
   "metadata": {},
   "outputs": [],
   "source": [
    "plt.figure(figsize=(8, 6))\n",
    "plt.bar(test_image_counts.keys(), test_image_counts.values())\n",
    "plt.title(\"Distribution of Expression Categories in Testing Set\")\n",
    "plt.xlabel(\"Expression Category\")\n",
    "plt.ylabel(\"Number of Images\")\n",
    "plt.xticks(rotation=90)\n",
    "plt.tight_layout()\n",
    "plt.show();"
   ]
  },
  {
   "cell_type": "code",
   "execution_count": null,
   "id": "899825a3",
   "metadata": {},
   "outputs": [],
   "source": [
    "def visualize_img_samples(directory, num_samples_per_category):\n",
    "    \n",
    "    # Get the expression categories from the training directory\n",
    "    train_expressions = os.listdir(train_dir)\n",
    "    \n",
    "    # Create a figure with subplots for each expression category\n",
    "    fig, axes = plt.subplots(nrows=len(train_expressions), ncols=num_samples_per_category, figsize=(10, 10))\n",
    "    \n",
    "    # Iterate over the expression categories\n",
    "    for i, expr in enumerate(train_expressions):\n",
    "        # Get the path to the expression directory\n",
    "        expr_dir = os.path.join(train_dir, expr)\n",
    "        \n",
    "        # Get the image files in the expression directory\n",
    "        expr_files = os.listdir(expr_dir)\n",
    "        \n",
    "        # Randomly select sample images\n",
    "        sample_image_files = random.sample(expr_files, num_samples_per_category)\n",
    "        \n",
    "        # Display the sample images\n",
    "        for j, sample_image_file in enumerate(sample_image_files):\n",
    "            sample_image = cv2.imread(os.path.join(expr_dir, sample_image_file))\n",
    "            axes[i, j].imshow(cv2.cvtColor(sample_image, cv2.COLOR_BGR2RGB))\n",
    "            axes[i, j].set_title(expr)\n",
    "            axes[i, j].axis('off')\n",
    "    \n",
    "    # Adjust the spacing between subplots\n",
    "    plt.subplots_adjust(hspace=0.5, wspace=0.001)\n",
    "    \n",
    "    # Display the figure\n",
    "    plt.tight_layout()\n",
    "    plt.show()"
   ]
  },
  {
   "cell_type": "code",
   "execution_count": null,
   "id": "831e12b4",
   "metadata": {},
   "outputs": [],
   "source": [
    "visualize_img_samples(train_dir, 6)"
   ]
  },
  {
   "cell_type": "markdown",
   "id": "d9598366",
   "metadata": {},
   "source": [
    "### 1.2 Findings\n",
    "\n",
    "FER-2013 is an image contained dataset, all in 48x48 dimension where the faces were automatically registered, being centralized and categorized by emotions. There is an amount of 35,887 images, or faces, in this dataset and they are categorized by Angry (0), Disgust (1), Fear (2), Happy (3), Sad (4), Surprise (5) and Neutral (6). In these first steps we performed for the data understanding, two aspects strucked us; data imbalance and data accuracy.\n",
    "\n",
    "For the first observations, it is clear that are imbalances in the dataset as the gap between the amount of images for the emotions Happy and Disgust is quite notable. 547 is the amount of images in the Disgust category and in contrast we find 8,989 images for the other category. There is as well a gap between Happy and the other remaining categories, which is not as big as the one just pointed, giving room for a possible balance in this amount what would may give less bias and overfitting to the future model, but as the first gap is quite large this balance might not be the best option. The best option is to train the model and see how it performs and with the results we are able to decide which way to go.\n",
    "\n",
    "The accuracy aspect of the data comes when we sample a few random images from each of the emotions and could observe that not all of the images were accurate to their emotions. In some cases images/faces placed in the Happy category did not look to be a happy face, but a neutral, or a image place in the Fear category that does not resamble with the category. These are aspects that could change the accuracy of the model after the  training."
   ]
  },
  {
   "cell_type": "markdown",
   "id": "533318f5",
   "metadata": {},
   "source": [
    "***"
   ]
  },
  {
   "cell_type": "markdown",
   "id": "59e4bd78",
   "metadata": {},
   "source": [
    "## 2. Data Preparation"
   ]
  },
  {
   "cell_type": "markdown",
   "id": "6bc18191",
   "metadata": {},
   "source": [
    "### 2.1 Data Augmentation"
   ]
  },
  {
   "cell_type": "code",
   "execution_count": 5,
   "id": "e2e5ebd5",
   "metadata": {},
   "outputs": [],
   "source": [
    "# Define the preprocessing parameters for data augmentation\n",
    "train_datagen = ImageDataGenerator(\n",
    "    rescale = 1 / 255.,        # Rescale pixel values to [0, 1] range\n",
    "    rotation_range = 15,       # Randomly rotate images by 0-20 degrees\n",
    "    zoom_range = 0.1,          # Zoom to our object randomly\n",
    "    horizontal_flip = True,    # Randomly flip images horizontally\n",
    "    height_shift_range = 0.1,  # Shift the height of images by up to 10% randomly\n",
    "    width_shift_range = 0.1,   # Shift the width of images by up to 10% randomly\n",
    "    fill_mode = 'nearest',     # Replaces the empty area with the nearest pixel values\n",
    "    validation_split = 0.2     # Set the validation split to 20%\n",
    ")\n",
    "\n",
    "test_datagen = ImageDataGenerator(\n",
    "    rescale = 1 / 255.  # Rescale pixel values to [0, 1] range\n",
    ")"
   ]
  },
  {
   "cell_type": "code",
   "execution_count": null,
   "id": "d902038c",
   "metadata": {},
   "outputs": [],
   "source": [
    "def visualize_augmentation(train_datagen, train_dir, num_samples=10):\n",
    "\n",
    "    # Get the expression categories from the training directory\n",
    "    expression_categories = os.listdir(train_dir)\n",
    "    \n",
    "    # Create a figure with subplots for each expression category\n",
    "    fig, axes = plt.subplots(nrows=len(expression_categories), ncols=num_samples + 1, figsize=(10, 10))\n",
    "    \n",
    "    # Iterate over the expression categories\n",
    "    for i, expr in enumerate(expression_categories):\n",
    "        # Get the path to the expression directory\n",
    "        expr_dir = os.path.join(train_dir, expr)\n",
    "        \n",
    "        # Get the image files in the expression directory\n",
    "        expr_files = os.listdir(expr_dir)\n",
    "        \n",
    "        # Randomly select a sample image\n",
    "        sample_image_file = random.choice(expr_files)\n",
    "        sample_image = cv2.imread(os.path.join(expr_dir, sample_image_file))\n",
    "        \n",
    "        # Display the original sample image\n",
    "        axes[i, 0].imshow(cv2.cvtColor(sample_image, cv2.COLOR_BGR2RGB))\n",
    "        axes[i, 0].set_title(f\"Original ({expr})\")\n",
    "        axes[i, 0].axis('off')\n",
    "        \n",
    "        # Apply data augmentation and display the transformed images\n",
    "        for j in range(1, num_samples + 1):\n",
    "            # Apply data augmentation to the sample image\n",
    "            augmented_image = train_datagen.random_transform(sample_image)\n",
    "            \n",
    "            # Display the transformed image\n",
    "            axes[i, j].imshow(cv2.cvtColor(augmented_image, cv2.COLOR_BGR2RGB))\n",
    "            axes[i, j].set_title(f\"Augmented ({j})\")\n",
    "            axes[i, j].axis('off')\n",
    "    \n",
    "    # Adjust the spacing between subplots\n",
    "    plt.subplots_adjust(hspace=0.5, wspace=0.001)\n",
    "    \n",
    "    # Display the figure\n",
    "    plt.tight_layout()\n",
    "    plt.show()"
   ]
  },
  {
   "cell_type": "code",
   "execution_count": null,
   "id": "50f2b0f8",
   "metadata": {},
   "outputs": [],
   "source": [
    "visualize_augmentation(train_datagen, train_dir, num_samples=5)"
   ]
  },
  {
   "cell_type": "markdown",
   "id": "41154945",
   "metadata": {},
   "source": [
    "### 2.2 Preparing Training, Validation & Testing Sets with Keras Generators"
   ]
  },
  {
   "cell_type": "code",
   "execution_count": 6,
   "id": "d911ced4",
   "metadata": {},
   "outputs": [],
   "source": [
    "# Specify the target size for images\n",
    "img_size = 48\n",
    "\n",
    "# Set the batch size for training\n",
    "batch_size = 64"
   ]
  },
  {
   "cell_type": "code",
   "execution_count": 7,
   "id": "5cf67a8a",
   "metadata": {},
   "outputs": [
    {
     "name": "stdout",
     "output_type": "stream",
     "text": [
      "Training Set: Found 22968 images belonging to 7 classes.\n",
      "Validation Set: Found 5741 images belonging to 7 classes.\n",
      "Testing Set: Found 7178 images belonging to 7 classes.\n"
     ]
    }
   ],
   "source": [
    "# Load the training data using flow_from_directory\n",
    "print('Training Set: ', end = '')\n",
    "train_generator = train_datagen.flow_from_directory(\n",
    "    train_dir,                                # Path to the training image directory\n",
    "    target_size = (img_size, img_size),       # Resize all images to target size\n",
    "    batch_size = batch_size,                  # Number of images to be processed in each batch\n",
    "    shuffle = True,                           # Shuffle the training data for each epoch\n",
    "    class_mode='categorical',                 # Output labels will be one-hot encoded\n",
    "    color_mode = 'rgb',                       # Load images in RGB color mode\n",
    "    subset = 'training'                       # Use the training subset of the directory\n",
    ")\n",
    "\n",
    "# Load the validation data using flow_from_directory\n",
    "print('Validation Set: ', end = '')\n",
    "validation_generator = train_datagen.flow_from_directory(\n",
    "    train_dir,                                # Path to the training image directory\n",
    "    target_size = (img_size, img_size),       # Resize all images to target size\n",
    "    batch_size = batch_size,                  # Number of images to be processed in each batch\n",
    "    shuffle = False,                          # Do not shuffle the validation data\n",
    "    class_mode='categorical',                 # Output labels will be one-hot encoded\n",
    "    color_mode = 'rgb',                       # Load images in RGB color mode\n",
    "    subset = 'validation'                     # Use the validation subset of the directory\n",
    ")\n",
    "\n",
    "# Load the testing data using flow_from_directory\n",
    "print('Testing Set: ', end = '')\n",
    "test_generator = test_datagen.flow_from_directory(\n",
    "    test_dir,                                 # Path to the testing image directory\n",
    "    target_size = (img_size, img_size),       # Resize all images to target size\n",
    "    batch_size = batch_size,                  # Number of images to be processed in each batch\n",
    "    shuffle = True,                           # Shuffle the testing data\n",
    "    class_mode='categorical',                 # Output labels will be one-hot encoded\n",
    "    color_mode = 'rgb',                       # Load images in RGB color mode\n",
    "    subset = None                             # No subset for this directory\n",
    ")"
   ]
  },
  {
   "cell_type": "markdown",
   "id": "db776b0e",
   "metadata": {},
   "source": [
    "---"
   ]
  },
  {
   "cell_type": "markdown",
   "id": "091a4daf",
   "metadata": {},
   "source": [
    "## 3. Modeling"
   ]
  },
  {
   "cell_type": "code",
   "execution_count": null,
   "id": "5724373f",
   "metadata": {
    "scrolled": false
   },
   "outputs": [],
   "source": [
    "# Create the base pre-trained VGG16 model\n",
    "# Source: https://keras.io/api/applications/vgg/\n",
    "base_model = VGG16(input_shape=(img_size, img_size, 3), # Specify the input shape for the VGG16 model\n",
    "                   include_top=False,                   # Exclude the top (classification) layer\n",
    "                   pooling='avg',                       # Use global average pooling\n",
    "                   weights=\"imagenet\")                  # Load pre-trained weights from ImageNet\n",
    "\n",
    "# Flatten the output from the base model\n",
    "x = Flatten()(base_model.output)\n",
    "\n",
    "# Add a dense layer with 7 units and softmax activation\n",
    "x = Dense(7, activation='softmax')(x)\n",
    "\n",
    "# Create the final model with the base model input and the new output layer\n",
    "model = Model(base_model.input, x)\n",
    "\n",
    "# Create an Adam optimizer instance with a learning rate of 0.001\n",
    "optimizer = Adam(learning_rate=0.001)\n",
    "\n",
    "# Compile the model with the specified optimizer, loss function, and metrics\n",
    "model.compile(optimizer=optimizer, loss='categorical_crossentropy', metrics=['accuracy'])"
   ]
  },
  {
   "cell_type": "code",
   "execution_count": null,
   "id": "e422344c",
   "metadata": {
    "scrolled": true
   },
   "outputs": [],
   "source": [
    "# Print a summary of the model architecture\n",
    "model.summary()"
   ]
  },
  {
   "cell_type": "code",
   "execution_count": null,
   "id": "ea7b97f8",
   "metadata": {
    "scrolled": true
   },
   "outputs": [],
   "source": [
    "# Plot the model architecture as a sequential diagram\n",
    "tf.keras.utils.plot_model(model)"
   ]
  },
  {
   "cell_type": "code",
   "execution_count": null,
   "id": "6c300488",
   "metadata": {},
   "outputs": [],
   "source": [
    "# Create ReduceLROnPlateau Callback to reduce overfitting by decreasing learning if the model loss does not decrease\n",
    "# Source: https://keras.io/api/callbacks/reduce_lr_on_plateau/\n",
    "reduce_lr = ReduceLROnPlateau(\n",
    "    monitor = 'val_loss',      # Monitor the validation loss\n",
    "    factor = 0.5,              # Reduce the learning rate by a factor of 0.5\n",
    "    patience = 10,             # Wait for 10 epochs before reducing the learning rate\n",
    "    min_lr = 0.00001,          # Set a minimum learning rate of 0.00001\n",
    "    verbose = 1                # Print a message when the learning rate is reduced\n",
    ")\n",
    "\n",
    "# Create Early Stopping Callback to monitor the accuracy\n",
    "# Source: https://keras.io/api/callbacks/early_stopping/\n",
    "early_stopping = EarlyStopping(\n",
    "    monitor = 'val_loss',         # Monitor the validation loss\n",
    "    min_delta = 0.005,            # Minimum change in the monitored quantity to qualify as an improvement\n",
    "    patience = 10,                # Wait for 10 epochs before stopping\n",
    "    verbose = 1,                  # Print a message when the training is stopped\n",
    "    restore_best_weights = True   # Restore the best model weights after stopping\n",
    ")\n",
    "\n",
    "# Combine the callbacks into a list\n",
    "callbacks = [reduce_lr, early_stopping]"
   ]
  },
  {
   "cell_type": "code",
   "execution_count": null,
   "id": "f2c08ed6",
   "metadata": {},
   "outputs": [],
   "source": [
    "# Start model training\n",
    "history = model.fit(\n",
    "    train_generator,                          # Pass the training data generator\n",
    "    validation_data = validation_generator,   # Pass the validation data generator\n",
    "    epochs = 40,                              # Set the number of epochs to train for\n",
    "    callbacks = callbacks,                    # Pass the list of callbacks\n",
    "    verbose = 1                               # Set the verbosity level to 1 (print progress)\n",
    ")"
   ]
  },
  {
   "cell_type": "code",
   "execution_count": null,
   "id": "0e561794",
   "metadata": {},
   "outputs": [],
   "source": [
    "# Evaluate the model on the training set\n",
    "train_loss, train_acc = model.evaluate(train_generator)\n",
    "\n",
    "# Evaluate the model on the validation set\n",
    "test_loss, test_acc = model.evaluate(validation_generator)\n",
    "print(\"final train accuracy = {:.2f} , validation accuracy = {:.2f}\".format(train_acc * 100, test_acc * 100))\n",
    "\n",
    "# Evaluate the model on the test set\n",
    "test_loss, test_acc = model.evaluate(test_generator)\n",
    "print(f\"Test accuracy: {test_acc * 100:.2f}%\")"
   ]
  },
  {
   "cell_type": "code",
   "execution_count": null,
   "id": "854c227a",
   "metadata": {},
   "outputs": [],
   "source": [
    "# Define the emotion labels\n",
    "emotion_labels = ['Angry', 'Disgust', 'Fear', 'Happy', 'Sad', 'Surprise', 'Neutral']\n",
    "\n",
    "# Get the true labels and predicted labels for the validation set\n",
    "y_true = validation_generator.classes\n",
    "y_pred = model.predict(validation_generator)\n",
    "y_pred = np.argmax(y_pred, axis=1)\n",
    "\n",
    "# Generate the classification report\n",
    "print(\"Classification Report:\")\n",
    "print(classification_report(y_true, y_pred, target_names=emotion_labels))"
   ]
  },
  {
   "cell_type": "code",
   "execution_count": null,
   "id": "6389b92f",
   "metadata": {},
   "outputs": [],
   "source": [
    "# Generate the confusion matrix\n",
    "print(\"Confusion Matrix:\")\n",
    "print(confusion_matrix(y_true, y_pred))"
   ]
  },
  {
   "cell_type": "markdown",
   "id": "9224da14",
   "metadata": {},
   "source": [
    "### 3.1 Hyperparameter Tuning"
   ]
  },
  {
   "cell_type": "markdown",
   "id": "0a0ff00a",
   "metadata": {},
   "source": [
    "For matters of computational power we had to split the tunning. The first try was made to check if keras.tuner would work for our model and the second try with more parameters and more computational power was to get the best hyperparameters."
   ]
  },
  {
   "cell_type": "markdown",
   "id": "381e112d",
   "metadata": {},
   "source": [
    "### Try Num 1"
   ]
  },
  {
   "cell_type": "code",
   "execution_count": null,
   "id": "89481977",
   "metadata": {},
   "outputs": [],
   "source": [
    "# Define the hyperparameter search space\n",
    "# Source: https://keras.io/keras_tuner/\n",
    "def build_model(hp):\n",
    "    # Load the base pre-trained VGG16 model\n",
    "    base_model = VGG16(input_shape=(img_size, img_size, 3), include_top=False, pooling='avg')\n",
    "    \n",
    "    # Flatten the output of the VGG16 model\n",
    "    x = Flatten()(base_model.output)\n",
    "    \n",
    "    # Add a dense layer with 7 units and softmax activation for classification\n",
    "    x = Dense(7, activation='softmax')(x)\n",
    "    \n",
    "    # Create the final model with the VGG16 input and the new output layer\n",
    "    model = Model(base_model.input, x)\n",
    "\n",
    "    # Define the hyperparameters to tune\n",
    "    # Choose the learning rate from the values [1e-2, 1e-3, 1e-4]\n",
    "    optimizer = Adam(learning_rate=hp.Choice('learning_rate', values=[1e-2, 1e-3, 1e-4]))\n",
    "    \n",
    "    # Choose the batch size from the values [32, 64, 128]\n",
    "    batch_size = hp.Choice('batch_size', values=[32, 64, 128])\n",
    "    \n",
    "    # Compile the model with the specified optimizer, loss function, and metrics\n",
    "    model.compile(optimizer=optimizer, loss='categorical_crossentropy', metrics=['accuracy'])\n",
    "    \n",
    "    return model"
   ]
  },
  {
   "cell_type": "markdown",
   "id": "576d9e01",
   "metadata": {},
   "source": [
    "### Try Num 2"
   ]
  },
  {
   "cell_type": "code",
   "execution_count": null,
   "id": "842e52e3",
   "metadata": {},
   "outputs": [],
   "source": [
    "def build_model(hp):\n",
    "    # Load the base pre-trained VGG16 model\n",
    "    base_model = VGG16(input_shape=(img_size, img_size, 3), include_top=False, pooling='avg')\n",
    "    \n",
    "    # Flatten the output of the VGG16 model\n",
    "    x = Flatten()(base_model.output)\n",
    "    \n",
    "    # Add dense layers with varying number of units\n",
    "    for i in range(hp.Int('num_layers', min_value=1, max_value=3)):\n",
    "        x = Dense(units=hp.Int(f'units_{i}', min_value=32, max_value=512, step=32), activation='relu')(x)\n",
    "        x = Dropout(rate=hp.Float(f'dropout_{i}', min_value=0.0, max_value=0.5, step=0.1))(x)\n",
    "    \n",
    "    # Add a dense layer with 7 units and softmax activation for classification\n",
    "    x = Dense(7, activation='softmax')(x)\n",
    "    \n",
    "    # Create the final model with the VGG16 input and the new output layer\n",
    "    model = Model(base_model.input, x)\n",
    "\n",
    "    # Define the hyperparameters to tune\n",
    "    optimizer = Adam(learning_rate=hp.Choice('learning_rate', values=[1e-2, 1e-3, 1e-4]))\n",
    "    \n",
    "    # Choose the batch size from the values [32, 64, 128]\n",
    "    batch_size = hp.Choice('batch_size', values=[32, 64, 128, 256])\n",
    "    \n",
    "    # Compile the model with the specified optimizer, loss function, and metrics\n",
    "    model.compile(optimizer=optimizer, loss='categorical_crossentropy', metrics=['accuracy'])\n",
    "    \n",
    "    return model\n"
   ]
  },
  {
   "cell_type": "code",
   "execution_count": null,
   "id": "0770ff5c",
   "metadata": {},
   "outputs": [],
   "source": [
    "# Instantiate the tuner\n",
    "# Source: https://keras.io/keras_tuner/\n",
    "tuner = kt.RandomSearch(\n",
    "    build_model,             # The function that builds the model with hyperparameters\n",
    "    objective='val_accuracy',  # The metric to optimize during tuning\n",
    "    max_trials=10,             # The maximum number of trial models to evaluate\n",
    "    directory='tuning_dir',    # The directory to save the tuning results\n",
    "    project_name='my_tuning'   # The name of the tuning project\n",
    ")"
   ]
  },
  {
   "cell_type": "code",
   "execution_count": null,
   "id": "e200e9da",
   "metadata": {
    "scrolled": true
   },
   "outputs": [],
   "source": [
    "# Search for the best hyperparameters\n",
    "# Source: https://keras.io/keras_tuner/\n",
    "tuner.search(train_generator,                       # Pass the training data generator\n",
    "             validation_data=validation_generator,  # Pass the validation data generator\n",
    "             epochs=10,                             # Set the number of epochs to train for each trial\n",
    "             callbacks=callbacks)                   # Pass the list of callbacks to use during training\n",
    "\n",
    "# Get the best hyperparameters\n",
    "best_hps = tuner.get_best_hyperparameters()[0]"
   ]
  },
  {
   "cell_type": "code",
   "execution_count": null,
   "id": "26b651f1",
   "metadata": {},
   "outputs": [],
   "source": [
    "best_hyperparameters = best_hps.values\n",
    "\n",
    "print(\"Best Hyperparameters:\")\n",
    "print(best_hyperparameters)"
   ]
  },
  {
   "cell_type": "markdown",
   "id": "087027ec",
   "metadata": {},
   "source": [
    "## Custom model with best HP"
   ]
  },
  {
   "cell_type": "markdown",
   "id": "bb7506a8",
   "metadata": {},
   "source": [
    "Finding the best hyperparameters we now went on creating a custon model using them."
   ]
  },
  {
   "cell_type": "code",
   "execution_count": 8,
   "id": "a6f8d601",
   "metadata": {},
   "outputs": [],
   "source": [
    "best_hyperparameters = {\n",
    "    'num_layers': 3,\n",
    "    'units_0': 224,\n",
    "    'dropout_0': 0.1,\n",
    "    'learning_rate': 0.0001,\n",
    "    'batch_size': 128,\n",
    "    'units_1': 352,\n",
    "    'dropout_1': 0.3,\n",
    "    'units_2': 32,\n",
    "    'dropout_2': 0.2\n",
    "}"
   ]
  },
  {
   "cell_type": "code",
   "execution_count": 11,
   "id": "7a3766f8",
   "metadata": {},
   "outputs": [],
   "source": [
    "# Create the base pre-trained VGG16 model\n",
    "base_model = VGG16(input_shape=(img_size, img_size, 3), # Specify the input shape for the VGG16 model\n",
    "                   include_top=False,                   # Exclude the top (classification) layer\n",
    "                   pooling='avg',                       # Use global average pooling\n",
    "                   weights=\"imagenet\")                  # Load pre-trained weights from ImageNet\n",
    "\n",
    "# Flatten the output from the base model\n",
    "x = Flatten()(base_model.output)\n",
    "\n",
    "# Add dense layers with best hyperparameters for each layer\n",
    "for i in range(best_hyperparameters['num_layers']):\n",
    "    x = Dense(units=best_hyperparameters[f'units_{i}'], activation='relu')(x)\n",
    "    x = Dropout(rate=best_hyperparameters[f'dropout_{i}'])(x)\n",
    "\n",
    "# Add a dense layer with 7 units and softmax activation\n",
    "x = Dense(7, activation='softmax')(x)\n",
    "\n",
    "# Create the final model with the base model input and the new output layer\n",
    "custom_model = Model(base_model.input, x)\n",
    "\n",
    "# Create an Adam optimizer instance with the best learning rate\n",
    "optimizer = Adam(learning_rate=best_hyperparameters['learning_rate'])\n",
    "\n",
    "# Compile the model with the specified optimizer, loss function, and metrics\n",
    "custom_model.compile(optimizer=optimizer, loss='categorical_crossentropy', metrics=['accuracy'])"
   ]
  },
  {
   "cell_type": "code",
   "execution_count": 13,
   "id": "a44db021",
   "metadata": {
    "scrolled": true
   },
   "outputs": [
    {
     "name": "stdout",
     "output_type": "stream",
     "text": [
      "Model: \"model\"\n",
      "_________________________________________________________________\n",
      " Layer (type)                Output Shape              Param #   \n",
      "=================================================================\n",
      " input_2 (InputLayer)        [(None, 48, 48, 3)]       0         \n",
      "                                                                 \n",
      " block1_conv1 (Conv2D)       (None, 48, 48, 64)        1792      \n",
      "                                                                 \n",
      " block1_conv2 (Conv2D)       (None, 48, 48, 64)        36928     \n",
      "                                                                 \n",
      " block1_pool (MaxPooling2D)  (None, 24, 24, 64)        0         \n",
      "                                                                 \n",
      " block2_conv1 (Conv2D)       (None, 24, 24, 128)       73856     \n",
      "                                                                 \n",
      " block2_conv2 (Conv2D)       (None, 24, 24, 128)       147584    \n",
      "                                                                 \n",
      " block2_pool (MaxPooling2D)  (None, 12, 12, 128)       0         \n",
      "                                                                 \n",
      " block3_conv1 (Conv2D)       (None, 12, 12, 256)       295168    \n",
      "                                                                 \n",
      " block3_conv2 (Conv2D)       (None, 12, 12, 256)       590080    \n",
      "                                                                 \n",
      " block3_conv3 (Conv2D)       (None, 12, 12, 256)       590080    \n",
      "                                                                 \n",
      " block3_pool (MaxPooling2D)  (None, 6, 6, 256)         0         \n",
      "                                                                 \n",
      " block4_conv1 (Conv2D)       (None, 6, 6, 512)         1180160   \n",
      "                                                                 \n",
      " block4_conv2 (Conv2D)       (None, 6, 6, 512)         2359808   \n",
      "                                                                 \n",
      " block4_conv3 (Conv2D)       (None, 6, 6, 512)         2359808   \n",
      "                                                                 \n",
      " block4_pool (MaxPooling2D)  (None, 3, 3, 512)         0         \n",
      "                                                                 \n",
      " block5_conv1 (Conv2D)       (None, 3, 3, 512)         2359808   \n",
      "                                                                 \n",
      " block5_conv2 (Conv2D)       (None, 3, 3, 512)         2359808   \n",
      "                                                                 \n",
      " block5_conv3 (Conv2D)       (None, 3, 3, 512)         2359808   \n",
      "                                                                 \n",
      " block5_pool (MaxPooling2D)  (None, 1, 1, 512)         0         \n",
      "                                                                 \n",
      " global_average_pooling2d_1   (None, 512)              0         \n",
      " (GlobalAveragePooling2D)                                        \n",
      "                                                                 \n",
      " flatten_1 (Flatten)         (None, 512)               0         \n",
      "                                                                 \n",
      " dense_1 (Dense)             (None, 224)               114912    \n",
      "                                                                 \n",
      " dropout (Dropout)           (None, 224)               0         \n",
      "                                                                 \n",
      " dense_2 (Dense)             (None, 352)               79200     \n",
      "                                                                 \n",
      " dropout_1 (Dropout)         (None, 352)               0         \n",
      "                                                                 \n",
      " dense_3 (Dense)             (None, 32)                11296     \n",
      "                                                                 \n",
      " dropout_2 (Dropout)         (None, 32)                0         \n",
      "                                                                 \n",
      " dense_4 (Dense)             (None, 7)                 231       \n",
      "                                                                 \n",
      "=================================================================\n",
      "Total params: 14,920,327\n",
      "Trainable params: 14,920,327\n",
      "Non-trainable params: 0\n",
      "_________________________________________________________________\n"
     ]
    }
   ],
   "source": [
    "# Print a summary of the model architecture\n",
    "custom_model.summary()"
   ]
  },
  {
   "cell_type": "code",
   "execution_count": 14,
   "id": "c64f4734",
   "metadata": {},
   "outputs": [
    {
     "data": {
      "image/png": "[encoded data removed]",
      "text/plain": [
       "<IPython.core.display.Image object>"
      ]
     },
     "execution_count": 14,
     "metadata": {},
     "output_type": "execute_result"
    }
   ],
   "source": [
    "# Plot the model architecture as a sequential diagram\n",
    "tf.keras.utils.plot_model(custom_model)"
   ]
  },
  {
   "cell_type": "code",
   "execution_count": 15,
   "id": "e5b327fb",
   "metadata": {},
   "outputs": [],
   "source": [
    "# Create ReduceLROnPlateau Callback to reduce overfitting by decreasing learning if the model loss does not decrease\n",
    "# Source: https://keras.io/api/callbacks/reduce_lr_on_plateau/\n",
    "reduce_lr = ReduceLROnPlateau(\n",
    "    monitor = 'val_loss',      # Monitor the validation loss\n",
    "    factor = 0.5,              # Reduce the learning rate by a factor of 0.5\n",
    "    patience = 10,             # Wait for 10 epochs before reducing the learning rate\n",
    "    min_lr = 0.00001,          # Set a minimum learning rate of 0.00001\n",
    "    verbose = 1                # Print a message when the learning rate is reduced\n",
    ")\n",
    "\n",
    "# Create Early Stopping Callback to monitor the accuracy\n",
    "# Source: https://keras.io/api/callbacks/early_stopping/\n",
    "early_stopping = EarlyStopping(\n",
    "    monitor = 'val_loss',         # Monitor the validation loss\n",
    "    min_delta = 0.005,            # Minimum change in the monitored quantity to qualify as an improvement\n",
    "    patience = 10,                # Wait for 10 epochs before stopping\n",
    "    verbose = 1,                  # Print a message when the training is stopped\n",
    "    restore_best_weights = True   # Restore the best model weights after stopping\n",
    ")\n",
    "\n",
    "# Combine the callbacks into a list\n",
    "callbacks = [reduce_lr, early_stopping]"
   ]
  },
  {
   "cell_type": "code",
   "execution_count": 17,
   "id": "aa77d3bb",
   "metadata": {},
   "outputs": [
    {
     "name": "stdout",
     "output_type": "stream",
     "text": [
      "Epoch 1/40\n",
      "359/359 [==============================] - 761s 2s/step - loss: 1.6519 - accuracy: 0.3459 - val_loss: 1.4358 - val_accuracy: 0.4370 - lr: 1.0000e-04\n",
      "Epoch 2/40\n",
      "359/359 [==============================] - 764s 2s/step - loss: 1.4088 - accuracy: 0.4656 - val_loss: 1.3489 - val_accuracy: 0.5039 - lr: 1.0000e-04\n",
      "Epoch 3/40\n",
      "359/359 [==============================] - 764s 2s/step - loss: 1.2952 - accuracy: 0.5264 - val_loss: 1.2289 - val_accuracy: 0.5478 - lr: 1.0000e-04\n",
      "Epoch 4/40\n",
      "359/359 [==============================] - 783s 2s/step - loss: 1.2173 - accuracy: 0.5600 - val_loss: 1.1480 - val_accuracy: 0.5804 - lr: 1.0000e-04\n",
      "Epoch 5/40\n",
      "359/359 [==============================] - 773s 2s/step - loss: 1.1561 - accuracy: 0.5811 - val_loss: 1.1289 - val_accuracy: 0.5874 - lr: 1.0000e-04\n",
      "Epoch 6/40\n",
      "359/359 [==============================] - 774s 2s/step - loss: 1.1136 - accuracy: 0.6024 - val_loss: 1.0835 - val_accuracy: 0.5968 - lr: 1.0000e-04\n",
      "Epoch 7/40\n",
      "359/359 [==============================] - 767s 2s/step - loss: 1.0717 - accuracy: 0.6196 - val_loss: 1.0921 - val_accuracy: 0.5948 - lr: 1.0000e-04\n",
      "Epoch 8/40\n",
      "359/359 [==============================] - 768s 2s/step - loss: 1.0320 - accuracy: 0.6312 - val_loss: 1.0613 - val_accuracy: 0.6152 - lr: 1.0000e-04\n",
      "Epoch 9/40\n",
      "359/359 [==============================] - 764s 2s/step - loss: 1.0033 - accuracy: 0.6421 - val_loss: 1.0360 - val_accuracy: 0.6166 - lr: 1.0000e-04\n",
      "Epoch 10/40\n",
      "359/359 [==============================] - 771s 2s/step - loss: 0.9614 - accuracy: 0.6597 - val_loss: 1.0546 - val_accuracy: 0.6091 - lr: 1.0000e-04\n",
      "Epoch 11/40\n",
      "359/359 [==============================] - 765s 2s/step - loss: 0.9369 - accuracy: 0.6668 - val_loss: 1.0424 - val_accuracy: 0.6144 - lr: 1.0000e-04\n",
      "Epoch 12/40\n",
      "359/359 [==============================] - 769s 2s/step - loss: 0.9039 - accuracy: 0.6788 - val_loss: 1.0406 - val_accuracy: 0.6231 - lr: 1.0000e-04\n",
      "Epoch 13/40\n",
      "359/359 [==============================] - 775s 2s/step - loss: 0.8800 - accuracy: 0.6890 - val_loss: 1.0166 - val_accuracy: 0.6335 - lr: 1.0000e-04\n",
      "Epoch 14/40\n",
      "359/359 [==============================] - 770s 2s/step - loss: 0.8456 - accuracy: 0.6970 - val_loss: 1.0407 - val_accuracy: 0.6234 - lr: 1.0000e-04\n",
      "Epoch 15/40\n",
      "359/359 [==============================] - 766s 2s/step - loss: 0.8217 - accuracy: 0.7113 - val_loss: 1.0247 - val_accuracy: 0.6333 - lr: 1.0000e-04\n",
      "Epoch 16/40\n",
      "359/359 [==============================] - 761s 2s/step - loss: 0.7896 - accuracy: 0.7266 - val_loss: 1.0739 - val_accuracy: 0.6229 - lr: 1.0000e-04\n",
      "Epoch 17/40\n",
      "359/359 [==============================] - 766s 2s/step - loss: 0.7597 - accuracy: 0.7357 - val_loss: 1.0538 - val_accuracy: 0.6342 - lr: 1.0000e-04\n",
      "Epoch 18/40\n",
      "359/359 [==============================] - 769s 2s/step - loss: 0.7254 - accuracy: 0.7476 - val_loss: 1.0974 - val_accuracy: 0.6360 - lr: 1.0000e-04\n",
      "Epoch 19/40\n",
      "359/359 [==============================] - 767s 2s/step - loss: 0.6977 - accuracy: 0.7575 - val_loss: 1.0656 - val_accuracy: 0.6426 - lr: 1.0000e-04\n",
      "Epoch 20/40\n",
      "359/359 [==============================] - 779s 2s/step - loss: 0.6736 - accuracy: 0.7657 - val_loss: 1.0424 - val_accuracy: 0.6434 - lr: 1.0000e-04\n",
      "Epoch 21/40\n",
      "359/359 [==============================] - 768s 2s/step - loss: 0.6400 - accuracy: 0.7781 - val_loss: 1.0492 - val_accuracy: 0.6419 - lr: 1.0000e-04\n",
      "Epoch 22/40\n",
      "359/359 [==============================] - 765s 2s/step - loss: 0.6218 - accuracy: 0.7853 - val_loss: 1.0974 - val_accuracy: 0.6447 - lr: 1.0000e-04\n",
      "Epoch 23/40\n",
      "359/359 [==============================] - ETA: 0s - loss: 0.5845 - accuracy: 0.7987\n",
      "Epoch 23: ReduceLROnPlateau reducing learning rate to 4.999999873689376e-05.\n",
      "Restoring model weights from the end of the best epoch: 13.\n",
      "359/359 [==============================] - 763s 2s/step - loss: 0.5845 - accuracy: 0.7987 - val_loss: 1.0856 - val_accuracy: 0.6420 - lr: 1.0000e-04\n",
      "Epoch 23: early stopping\n"
     ]
    }
   ],
   "source": [
    "# Start model training\n",
    "history = custom_model.fit(\n",
    "    train_generator,                          # Pass the training data generator\n",
    "    validation_data = validation_generator,   # Pass the validation data generator\n",
    "    epochs = 40,                              # Set the number of epochs to train for\n",
    "    callbacks = callbacks,                    # Pass the list of callbacks\n",
    "    verbose = 1                               # Set the verbosity level to 1 (print progress)\n",
    ")"
   ]
  },
  {
   "cell_type": "code",
   "execution_count": 19,
   "id": "3a7eeeae",
   "metadata": {},
   "outputs": [
    {
     "name": "stdout",
     "output_type": "stream",
     "text": [
      "359/359 [==============================] - 130s 362ms/step - loss: 0.7561 - accuracy: 0.7240\n",
      "90/90 [==============================] - 35s 388ms/step - loss: 1.0174 - accuracy: 0.6323\n",
      "final train accuracy = 72.40 , validation accuracy = 63.23\n",
      "113/113 [==============================] - 40s 353ms/step - loss: 0.9850 - accuracy: 0.6516\n",
      "Test accuracy: 65.16%\n"
     ]
    }
   ],
   "source": [
    "# Evaluate the model on the training set\n",
    "train_loss, train_acc = custom_model.evaluate(train_generator)\n",
    "\n",
    "# Evaluate the model on the validation set\n",
    "test_loss, test_acc = custom_model.evaluate(validation_generator)\n",
    "print(\"final train accuracy = {:.2f} , validation accuracy = {:.2f}\".format(train_acc * 100, test_acc * 100))\n",
    "\n",
    "# Evaluate the model on the test set\n",
    "test_loss, test_acc = custom_model.evaluate(test_generator)\n",
    "print(f\"Test accuracy: {test_acc * 100:.2f}%\")"
   ]
  },
  {
   "attachments": {
    "image.png": {
     "image/png": "[encoded data removed]"
    }
   },
   "cell_type": "markdown",
   "id": "f2799440",
   "metadata": {},
   "source": [
    "Results:\n",
    "\n",
    "![image.png](attachment:image.png)"
   ]
  },
  {
   "attachments": {
    "image.png": {
     "image/png": "[encoded data removed]"
    }
   },
   "cell_type": "markdown",
   "id": "ca8817ad",
   "metadata": {},
   "source": [
    "![image.png](attachment:image.png)"
   ]
  },
  {
   "cell_type": "markdown",
   "id": "da651860",
   "metadata": {},
   "source": [
    "### 3.2 Custom VGG16 Model"
   ]
  },
  {
   "cell_type": "code",
   "execution_count": null,
   "id": "c70965b4",
   "metadata": {},
   "outputs": [],
   "source": []
  }
 ],
 "metadata": {
  "kernelspec": {
   "display_name": "Python 3 (ipykernel)",
   "language": "python",
   "name": "python3"
  },
  "language_info": {
   "codemirror_mode": {
    "name": "ipython",
    "version": 3
   },
   "file_extension": ".py",
   "mimetype": "text/x-python",
   "name": "python",
   "nbconvert_exporter": "python",
   "pygments_lexer": "ipython3",
   "version": "3.11.4"
  }
 },
 "nbformat": 4,
 "nbformat_minor": 5
}
